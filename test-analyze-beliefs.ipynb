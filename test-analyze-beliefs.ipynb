{
 "cells": [
  {
   "cell_type": "code",
   "execution_count": 1,
   "metadata": {
    "executionInfo": {
     "elapsed": 1065,
     "status": "ok",
     "timestamp": 1660679396918,
     "user": {
      "displayName": "Alireza Karduni",
      "userId": "16608708813703075774"
     },
     "user_tz": 300
    },
    "id": "oqAm2wuVE97D"
   },
   "outputs": [],
   "source": [
    "import pandas as pd\n",
    "import matplotlib.pyplot as plt\n",
    "import seaborn as sns\n",
    "import ast\n",
    "import numpy as np"
   ]
  },
  {
   "cell_type": "code",
   "execution_count": 2,
   "metadata": {
    "executionInfo": {
     "elapsed": 2,
     "status": "ok",
     "timestamp": 1660679396918,
     "user": {
      "displayName": "Alireza Karduni",
      "userId": "16608708813703075774"
     },
     "user_tz": 300
    },
    "id": "DrDgTTSsFD7u"
   },
   "outputs": [],
   "source": [
    "import os"
   ]
  },
  {
   "cell_type": "code",
   "execution_count": 3,
   "metadata": {
    "executionInfo": {
     "elapsed": 2,
     "status": "ok",
     "timestamp": 1660679396918,
     "user": {
      "displayName": "Alireza Karduni",
      "userId": "16608708813703075774"
     },
     "user_tz": 300
    },
    "id": "ZxOmrmYxFEtj"
   },
   "outputs": [],
   "source": [
    "os.chdir(\"drive/My Drive/Belief Presistence/\")"
   ]
  },
  {
   "cell_type": "code",
   "execution_count": 5,
   "metadata": {
    "colab": {
     "base_uri": "https://localhost:8080/"
    },
    "executionInfo": {
     "elapsed": 1,
     "status": "ok",
     "timestamp": 1660679397088,
     "user": {
      "displayName": "Alireza Karduni",
      "userId": "16608708813703075774"
     },
     "user_tz": 300
    },
    "id": "mim5qFsCNHjQ",
    "outputId": "8897345d-a102-44f7-ccac-af3b0f8ece0a"
   },
   "outputs": [
    {
     "data": {
      "text/plain": [
       "['pilot_belief_vfin.csv', 'Untitled0.ipynb', 'pilot_belief_vfin_large.csv']"
      ]
     },
     "execution_count": 5,
     "metadata": {},
     "output_type": "execute_result"
    }
   ],
   "source": [
    "os.listdir()"
   ]
  },
  {
   "cell_type": "code",
   "execution_count": 6,
   "metadata": {
    "executionInfo": {
     "elapsed": 281,
     "status": "ok",
     "timestamp": 1660679405489,
     "user": {
      "displayName": "Alireza Karduni",
      "userId": "16608708813703075774"
     },
     "user_tz": 300
    },
    "id": "zpUR7F2lFHDS"
   },
   "outputs": [],
   "source": [
    "df = pd.read_csv(\"pilot_belief_vfin_large.csv\")"
   ]
  },
  {
   "cell_type": "code",
   "execution_count": 9,
   "metadata": {
    "colab": {
     "base_uri": "https://localhost:8080/",
     "height": 838
    },
    "executionInfo": {
     "elapsed": 142,
     "status": "ok",
     "timestamp": 1660679507628,
     "user": {
      "displayName": "Alireza Karduni",
      "userId": "16608708813703075774"
     },
     "user_tz": 300
    },
    "id": "p1aGfYTPNMS2",
    "outputId": "b3a0393c-6fe6-4255-a9a1-238345b42212"
   },
   "outputs": [
    {
     "data": {
      "text/html": [
       "\n",
       "  <div id=\"df-6bc14eec-32e8-421d-90bd-0dc951b056d7\">\n",
       "    <div class=\"colab-df-container\">\n",
       "      <div>\n",
       "<style scoped>\n",
       "    .dataframe tbody tr th:only-of-type {\n",
       "        vertical-align: middle;\n",
       "    }\n",
       "\n",
       "    .dataframe tbody tr th {\n",
       "        vertical-align: top;\n",
       "    }\n",
       "\n",
       "    .dataframe thead th {\n",
       "        text-align: right;\n",
       "    }\n",
       "</style>\n",
       "<table border=\"1\" class=\"dataframe\">\n",
       "  <thead>\n",
       "    <tr style=\"text-align: right;\">\n",
       "      <th></th>\n",
       "      <th>Unnamed: 0</th>\n",
       "      <th>ID</th>\n",
       "      <th>usertoken</th>\n",
       "      <th>prolificID</th>\n",
       "      <th>gender</th>\n",
       "      <th>age</th>\n",
       "      <th>race</th>\n",
       "      <th>education</th>\n",
       "      <th>variables</th>\n",
       "      <th>timerVal</th>\n",
       "      <th>...</th>\n",
       "      <th>data_CI_L</th>\n",
       "      <th>data_CI_R</th>\n",
       "      <th>post_belief</th>\n",
       "      <th>post_uncertainty_L</th>\n",
       "      <th>post_uncertainty_R</th>\n",
       "      <th>retro_prior</th>\n",
       "      <th>retro_post1</th>\n",
       "      <th>retro_post2</th>\n",
       "      <th>likert</th>\n",
       "      <th>survey</th>\n",
       "    </tr>\n",
       "  </thead>\n",
       "  <tbody>\n",
       "    <tr>\n",
       "      <th>0</th>\n",
       "      <td>0</td>\n",
       "      <td>62f67ae0fc70763173e81fc2</td>\n",
       "      <td>Swh7B1VF</td>\n",
       "      <td>60ca3935fb64d56e11014643</td>\n",
       "      <td>female</td>\n",
       "      <td>23</td>\n",
       "      <td>white</td>\n",
       "      <td>undergrad</td>\n",
       "      <td>['Immigrant population', 'Crime rate']</td>\n",
       "      <td>5</td>\n",
       "      <td>...</td>\n",
       "      <td>-0.834380</td>\n",
       "      <td>-0.537843</td>\n",
       "      <td>-0.809420</td>\n",
       "      <td>-0.937933</td>\n",
       "      <td>-0.680907</td>\n",
       "      <td>I thought that many immigrant families may liv...</td>\n",
       "      <td>The data showed a negative correlation trend, ...</td>\n",
       "      <td>Again, I used my judgement based on the data g...</td>\n",
       "      <td>unlikely</td>\n",
       "      <td>Tetris was a long time. I think 2 minutes woul...</td>\n",
       "    </tr>\n",
       "    <tr>\n",
       "      <th>1</th>\n",
       "      <td>1</td>\n",
       "      <td>62f67ae0fc70763173e81fc2</td>\n",
       "      <td>Swh7B1VF</td>\n",
       "      <td>60ca3935fb64d56e11014643</td>\n",
       "      <td>female</td>\n",
       "      <td>23</td>\n",
       "      <td>white</td>\n",
       "      <td>undergrad</td>\n",
       "      <td>['Immigrant population', 'Crime rate']</td>\n",
       "      <td>5</td>\n",
       "      <td>...</td>\n",
       "      <td>-0.834380</td>\n",
       "      <td>-0.537843</td>\n",
       "      <td>-0.797963</td>\n",
       "      <td>-0.988185</td>\n",
       "      <td>-0.607742</td>\n",
       "      <td>I thought that many immigrant families may liv...</td>\n",
       "      <td>The data showed a negative correlation trend, ...</td>\n",
       "      <td>Again, I used my judgement based on the data g...</td>\n",
       "      <td>unlikely</td>\n",
       "      <td>Tetris was a long time. I think 2 minutes woul...</td>\n",
       "    </tr>\n",
       "    <tr>\n",
       "      <th>2</th>\n",
       "      <td>2</td>\n",
       "      <td>62f67ae0fc70763173e81fc2</td>\n",
       "      <td>Swh7B1VF</td>\n",
       "      <td>60ca3935fb64d56e11014643</td>\n",
       "      <td>female</td>\n",
       "      <td>23</td>\n",
       "      <td>white</td>\n",
       "      <td>undergrad</td>\n",
       "      <td>['Years of education', 'Income']</td>\n",
       "      <td>5</td>\n",
       "      <td>...</td>\n",
       "      <td>-0.384297</td>\n",
       "      <td>0.219951</td>\n",
       "      <td>-0.006114</td>\n",
       "      <td>-1.000000</td>\n",
       "      <td>1.000000</td>\n",
       "      <td>Typically, people with more education are able...</td>\n",
       "      <td>The data threw off my belief since it was nega...</td>\n",
       "      <td>After Tetris, I figured there could be some co...</td>\n",
       "      <td>very_likely</td>\n",
       "      <td>Tetris was a long time. I think 2 minutes woul...</td>\n",
       "    </tr>\n",
       "    <tr>\n",
       "      <th>3</th>\n",
       "      <td>3</td>\n",
       "      <td>62f67ae0fc70763173e81fc2</td>\n",
       "      <td>Swh7B1VF</td>\n",
       "      <td>60ca3935fb64d56e11014643</td>\n",
       "      <td>female</td>\n",
       "      <td>23</td>\n",
       "      <td>white</td>\n",
       "      <td>undergrad</td>\n",
       "      <td>['Years of education', 'Income']</td>\n",
       "      <td>5</td>\n",
       "      <td>...</td>\n",
       "      <td>-0.384297</td>\n",
       "      <td>0.219951</td>\n",
       "      <td>-0.006797</td>\n",
       "      <td>-0.277683</td>\n",
       "      <td>0.264089</td>\n",
       "      <td>Typically, people with more education are able...</td>\n",
       "      <td>The data threw off my belief since it was nega...</td>\n",
       "      <td>After Tetris, I figured there could be some co...</td>\n",
       "      <td>very_likely</td>\n",
       "      <td>Tetris was a long time. I think 2 minutes woul...</td>\n",
       "    </tr>\n",
       "    <tr>\n",
       "      <th>4</th>\n",
       "      <td>4</td>\n",
       "      <td>62f67ae0fc70763173e81fc2</td>\n",
       "      <td>Swh7B1VF</td>\n",
       "      <td>60ca3935fb64d56e11014643</td>\n",
       "      <td>female</td>\n",
       "      <td>23</td>\n",
       "      <td>white</td>\n",
       "      <td>undergrad</td>\n",
       "      <td>['Avg. hours on social media', 'Depression sev...</td>\n",
       "      <td>5</td>\n",
       "      <td>...</td>\n",
       "      <td>-0.828557</td>\n",
       "      <td>-0.614817</td>\n",
       "      <td>-0.786482</td>\n",
       "      <td>-0.976661</td>\n",
       "      <td>-0.596304</td>\n",
       "      <td>Maybe people who are depressed spend a lot of ...</td>\n",
       "      <td>I could reason that people with depression may...</td>\n",
       "      <td>I continued with the same graph because I coul...</td>\n",
       "      <td>cant_say</td>\n",
       "      <td>Tetris was a long time. I think 2 minutes woul...</td>\n",
       "    </tr>\n",
       "  </tbody>\n",
       "</table>\n",
       "<p>5 rows × 24 columns</p>\n",
       "</div>\n",
       "      <button class=\"colab-df-convert\" onclick=\"convertToInteractive('df-6bc14eec-32e8-421d-90bd-0dc951b056d7')\"\n",
       "              title=\"Convert this dataframe to an interactive table.\"\n",
       "              style=\"display:none;\">\n",
       "        \n",
       "  <svg xmlns=\"http://www.w3.org/2000/svg\" height=\"24px\"viewBox=\"0 0 24 24\"\n",
       "       width=\"24px\">\n",
       "    <path d=\"M0 0h24v24H0V0z\" fill=\"none\"/>\n",
       "    <path d=\"M18.56 5.44l.94 2.06.94-2.06 2.06-.94-2.06-.94-.94-2.06-.94 2.06-2.06.94zm-11 1L8.5 8.5l.94-2.06 2.06-.94-2.06-.94L8.5 2.5l-.94 2.06-2.06.94zm10 10l.94 2.06.94-2.06 2.06-.94-2.06-.94-.94-2.06-.94 2.06-2.06.94z\"/><path d=\"M17.41 7.96l-1.37-1.37c-.4-.4-.92-.59-1.43-.59-.52 0-1.04.2-1.43.59L10.3 9.45l-7.72 7.72c-.78.78-.78 2.05 0 2.83L4 21.41c.39.39.9.59 1.41.59.51 0 1.02-.2 1.41-.59l7.78-7.78 2.81-2.81c.8-.78.8-2.07 0-2.86zM5.41 20L4 18.59l7.72-7.72 1.47 1.35L5.41 20z\"/>\n",
       "  </svg>\n",
       "      </button>\n",
       "      \n",
       "  <style>\n",
       "    .colab-df-container {\n",
       "      display:flex;\n",
       "      flex-wrap:wrap;\n",
       "      gap: 12px;\n",
       "    }\n",
       "\n",
       "    .colab-df-convert {\n",
       "      background-color: #E8F0FE;\n",
       "      border: none;\n",
       "      border-radius: 50%;\n",
       "      cursor: pointer;\n",
       "      display: none;\n",
       "      fill: #1967D2;\n",
       "      height: 32px;\n",
       "      padding: 0 0 0 0;\n",
       "      width: 32px;\n",
       "    }\n",
       "\n",
       "    .colab-df-convert:hover {\n",
       "      background-color: #E2EBFA;\n",
       "      box-shadow: 0px 1px 2px rgba(60, 64, 67, 0.3), 0px 1px 3px 1px rgba(60, 64, 67, 0.15);\n",
       "      fill: #174EA6;\n",
       "    }\n",
       "\n",
       "    [theme=dark] .colab-df-convert {\n",
       "      background-color: #3B4455;\n",
       "      fill: #D2E3FC;\n",
       "    }\n",
       "\n",
       "    [theme=dark] .colab-df-convert:hover {\n",
       "      background-color: #434B5C;\n",
       "      box-shadow: 0px 1px 3px 1px rgba(0, 0, 0, 0.15);\n",
       "      filter: drop-shadow(0px 1px 2px rgba(0, 0, 0, 0.3));\n",
       "      fill: #FFFFFF;\n",
       "    }\n",
       "  </style>\n",
       "\n",
       "      <script>\n",
       "        const buttonEl =\n",
       "          document.querySelector('#df-6bc14eec-32e8-421d-90bd-0dc951b056d7 button.colab-df-convert');\n",
       "        buttonEl.style.display =\n",
       "          google.colab.kernel.accessAllowed ? 'block' : 'none';\n",
       "\n",
       "        async function convertToInteractive(key) {\n",
       "          const element = document.querySelector('#df-6bc14eec-32e8-421d-90bd-0dc951b056d7');\n",
       "          const dataTable =\n",
       "            await google.colab.kernel.invokeFunction('convertToInteractive',\n",
       "                                                     [key], {});\n",
       "          if (!dataTable) return;\n",
       "\n",
       "          const docLinkHtml = 'Like what you see? Visit the ' +\n",
       "            '<a target=\"_blank\" href=https://colab.research.google.com/notebooks/data_table.ipynb>data table notebook</a>'\n",
       "            + ' to learn more about interactive tables.';\n",
       "          element.innerHTML = '';\n",
       "          dataTable['output_type'] = 'display_data';\n",
       "          await google.colab.output.renderOutput(dataTable, element);\n",
       "          const docLink = document.createElement('div');\n",
       "          docLink.innerHTML = docLinkHtml;\n",
       "          element.appendChild(docLink);\n",
       "        }\n",
       "      </script>\n",
       "    </div>\n",
       "  </div>\n",
       "  "
      ],
      "text/plain": [
       "   Unnamed: 0                        ID usertoken                prolificID  \\\n",
       "0           0  62f67ae0fc70763173e81fc2  Swh7B1VF  60ca3935fb64d56e11014643   \n",
       "1           1  62f67ae0fc70763173e81fc2  Swh7B1VF  60ca3935fb64d56e11014643   \n",
       "2           2  62f67ae0fc70763173e81fc2  Swh7B1VF  60ca3935fb64d56e11014643   \n",
       "3           3  62f67ae0fc70763173e81fc2  Swh7B1VF  60ca3935fb64d56e11014643   \n",
       "4           4  62f67ae0fc70763173e81fc2  Swh7B1VF  60ca3935fb64d56e11014643   \n",
       "\n",
       "   gender  age   race  education  \\\n",
       "0  female   23  white  undergrad   \n",
       "1  female   23  white  undergrad   \n",
       "2  female   23  white  undergrad   \n",
       "3  female   23  white  undergrad   \n",
       "4  female   23  white  undergrad   \n",
       "\n",
       "                                           variables  timerVal  ...  \\\n",
       "0             ['Immigrant population', 'Crime rate']         5  ...   \n",
       "1             ['Immigrant population', 'Crime rate']         5  ...   \n",
       "2                   ['Years of education', 'Income']         5  ...   \n",
       "3                   ['Years of education', 'Income']         5  ...   \n",
       "4  ['Avg. hours on social media', 'Depression sev...         5  ...   \n",
       "\n",
       "   data_CI_L  data_CI_R  post_belief  post_uncertainty_L  post_uncertainty_R  \\\n",
       "0  -0.834380  -0.537843    -0.809420           -0.937933           -0.680907   \n",
       "1  -0.834380  -0.537843    -0.797963           -0.988185           -0.607742   \n",
       "2  -0.384297   0.219951    -0.006114           -1.000000            1.000000   \n",
       "3  -0.384297   0.219951    -0.006797           -0.277683            0.264089   \n",
       "4  -0.828557  -0.614817    -0.786482           -0.976661           -0.596304   \n",
       "\n",
       "                                         retro_prior  \\\n",
       "0  I thought that many immigrant families may liv...   \n",
       "1  I thought that many immigrant families may liv...   \n",
       "2  Typically, people with more education are able...   \n",
       "3  Typically, people with more education are able...   \n",
       "4  Maybe people who are depressed spend a lot of ...   \n",
       "\n",
       "                                         retro_post1  \\\n",
       "0  The data showed a negative correlation trend, ...   \n",
       "1  The data showed a negative correlation trend, ...   \n",
       "2  The data threw off my belief since it was nega...   \n",
       "3  The data threw off my belief since it was nega...   \n",
       "4  I could reason that people with depression may...   \n",
       "\n",
       "                                         retro_post2       likert  \\\n",
       "0  Again, I used my judgement based on the data g...     unlikely   \n",
       "1  Again, I used my judgement based on the data g...     unlikely   \n",
       "2  After Tetris, I figured there could be some co...  very_likely   \n",
       "3  After Tetris, I figured there could be some co...  very_likely   \n",
       "4  I continued with the same graph because I coul...     cant_say   \n",
       "\n",
       "                                              survey  \n",
       "0  Tetris was a long time. I think 2 minutes woul...  \n",
       "1  Tetris was a long time. I think 2 minutes woul...  \n",
       "2  Tetris was a long time. I think 2 minutes woul...  \n",
       "3  Tetris was a long time. I think 2 minutes woul...  \n",
       "4  Tetris was a long time. I think 2 minutes woul...  \n",
       "\n",
       "[5 rows x 24 columns]"
      ]
     },
     "execution_count": 9,
     "metadata": {},
     "output_type": "execute_result"
    }
   ],
   "source": [
    "df.head()"
   ]
  },
  {
   "cell_type": "code",
   "execution_count": null,
   "metadata": {
    "id": "580keprNFb1K"
   },
   "outputs": [],
   "source": [
    "df[\"variables\"] = df[\"variables\"].apply(ast.literal_eval)"
   ]
  },
  {
   "cell_type": "code",
   "execution_count": null,
   "metadata": {
    "colab": {
     "base_uri": "https://localhost:8080/"
    },
    "executionInfo": {
     "elapsed": 4,
     "status": "ok",
     "timestamp": 1660612505756,
     "user": {
      "displayName": "Alireza Karduni",
      "userId": "16608708813703075774"
     },
     "user_tz": 300
    },
    "id": "ukBdRM5qFf4d",
    "outputId": "1937bfb0-0621-47a5-aff4-1b3ad96246c1"
   },
   "outputs": [
    {
     "data": {
      "text/plain": [
       "['Immigrant population', 'Crime rate']"
      ]
     },
     "execution_count": 93,
     "metadata": {},
     "output_type": "execute_result"
    }
   ],
   "source": [
    "df[\"variables\"][0]"
   ]
  },
  {
   "cell_type": "code",
   "execution_count": null,
   "metadata": {
    "colab": {
     "base_uri": "https://localhost:8080/"
    },
    "executionInfo": {
     "elapsed": 7,
     "status": "ok",
     "timestamp": 1660612505925,
     "user": {
      "displayName": "Alireza Karduni",
      "userId": "16608708813703075774"
     },
     "user_tz": 300
    },
    "id": "u0t1P7JJGTOI",
    "outputId": "db4794c2-52ae-4bf1-f594-3d1cd62fb106"
   },
   "outputs": [
    {
     "data": {
      "text/plain": [
       "Index(['Unnamed: 0', 'ID', 'usertoken', 'prolificID', 'gender', 'age', 'race',\n",
       "       'education', 'variables', 'timerVal', 'prior_belief',\n",
       "       'prior_uncertainty_L', 'prior_uncertainty_R', 'data_rho', 'data_CI_L',\n",
       "       'data_CI_R', 'post1_belief', 'post1_uncertainty_L',\n",
       "       'post1_uncertainty_R', 'post2_belief', 'post2_uncertainty_L',\n",
       "       'post2_uncertainty_R', 'retro_prior', 'retro_post1', 'retro_post2',\n",
       "       'likert', 'survey'],\n",
       "      dtype='object')"
      ]
     },
     "execution_count": 94,
     "metadata": {},
     "output_type": "execute_result"
    }
   ],
   "source": [
    "df.columns"
   ]
  },
  {
   "cell_type": "code",
   "execution_count": null,
   "metadata": {
    "id": "iac0ZcxGFw40"
   },
   "outputs": [],
   "source": [
    "df[\"vars\"] = df[\"variables\"].apply(lambda x: \"_\".join(x))"
   ]
  },
  {
   "cell_type": "code",
   "execution_count": null,
   "metadata": {
    "id": "ioHQhkyaF4BZ"
   },
   "outputs": [],
   "source": [
    "df[\"post-prior before tetris\"] = np.abs(df[\"post1_belief\"] - df[\"prior_belief\"])"
   ]
  },
  {
   "cell_type": "code",
   "execution_count": null,
   "metadata": {
    "id": "95LPqAmiF49x"
   },
   "outputs": [],
   "source": [
    "df[\"post-prior after tetris\"] = np.abs(df[\"post2_belief\"] - df[\"prior_belief\"])"
   ]
  },
  {
   "cell_type": "code",
   "execution_count": null,
   "metadata": {
    "colab": {
     "base_uri": "https://localhost:8080/",
     "height": 803
    },
    "executionInfo": {
     "elapsed": 219,
     "status": "ok",
     "timestamp": 1660612508982,
     "user": {
      "displayName": "Alireza Karduni",
      "userId": "16608708813703075774"
     },
     "user_tz": 300
    },
    "id": "T4anAszDL0a0",
    "outputId": "032c3db8-00bf-462b-cd81-60ec50117fb6"
   },
   "outputs": [
    {
     "data": {
      "text/html": [
       "\n",
       "  <div id=\"df-948583b2-84f0-47eb-91d3-d5489b772d6e\">\n",
       "    <div class=\"colab-df-container\">\n",
       "      <div>\n",
       "<style scoped>\n",
       "    .dataframe tbody tr th:only-of-type {\n",
       "        vertical-align: middle;\n",
       "    }\n",
       "\n",
       "    .dataframe tbody tr th {\n",
       "        vertical-align: top;\n",
       "    }\n",
       "\n",
       "    .dataframe thead th {\n",
       "        text-align: right;\n",
       "    }\n",
       "</style>\n",
       "<table border=\"1\" class=\"dataframe\">\n",
       "  <thead>\n",
       "    <tr style=\"text-align: right;\">\n",
       "      <th></th>\n",
       "      <th>Unnamed: 0</th>\n",
       "      <th>ID</th>\n",
       "      <th>usertoken</th>\n",
       "      <th>prolificID</th>\n",
       "      <th>gender</th>\n",
       "      <th>age</th>\n",
       "      <th>race</th>\n",
       "      <th>education</th>\n",
       "      <th>variables</th>\n",
       "      <th>timerVal</th>\n",
       "      <th>...</th>\n",
       "      <th>post2_uncertainty_L</th>\n",
       "      <th>post2_uncertainty_R</th>\n",
       "      <th>retro_prior</th>\n",
       "      <th>retro_post1</th>\n",
       "      <th>retro_post2</th>\n",
       "      <th>likert</th>\n",
       "      <th>survey</th>\n",
       "      <th>vars</th>\n",
       "      <th>post-prior before tetris</th>\n",
       "      <th>post-prior after tetris</th>\n",
       "    </tr>\n",
       "  </thead>\n",
       "  <tbody>\n",
       "    <tr>\n",
       "      <th>0</th>\n",
       "      <td>0</td>\n",
       "      <td>62f67ae0fc70763173e81fc2</td>\n",
       "      <td>Swh7B1VF</td>\n",
       "      <td>60ca3935fb64d56e11014643</td>\n",
       "      <td>female</td>\n",
       "      <td>23</td>\n",
       "      <td>white</td>\n",
       "      <td>undergrad</td>\n",
       "      <td>[Immigrant population, Crime rate]</td>\n",
       "      <td>5</td>\n",
       "      <td>...</td>\n",
       "      <td>-0.988185</td>\n",
       "      <td>-0.607742</td>\n",
       "      <td>I thought that many immigrant families may liv...</td>\n",
       "      <td>The data showed a negative correlation trend, ...</td>\n",
       "      <td>Again, I used my judgement based on the data g...</td>\n",
       "      <td>unlikely</td>\n",
       "      <td>Tetris was a long time. I think 2 minutes woul...</td>\n",
       "      <td>Immigrant population_Crime rate</td>\n",
       "      <td>1.244300</td>\n",
       "      <td>1.232843</td>\n",
       "    </tr>\n",
       "    <tr>\n",
       "      <th>1</th>\n",
       "      <td>1</td>\n",
       "      <td>62f67ae0fc70763173e81fc2</td>\n",
       "      <td>Swh7B1VF</td>\n",
       "      <td>60ca3935fb64d56e11014643</td>\n",
       "      <td>female</td>\n",
       "      <td>23</td>\n",
       "      <td>white</td>\n",
       "      <td>undergrad</td>\n",
       "      <td>[Years of education, Income]</td>\n",
       "      <td>5</td>\n",
       "      <td>...</td>\n",
       "      <td>-0.277683</td>\n",
       "      <td>0.264089</td>\n",
       "      <td>Typically, people with more education are able...</td>\n",
       "      <td>The data threw off my belief since it was nega...</td>\n",
       "      <td>After Tetris, I figured there could be some co...</td>\n",
       "      <td>very_likely</td>\n",
       "      <td>Tetris was a long time. I think 2 minutes woul...</td>\n",
       "      <td>Years of education_Income</td>\n",
       "      <td>0.872396</td>\n",
       "      <td>0.873079</td>\n",
       "    </tr>\n",
       "    <tr>\n",
       "      <th>2</th>\n",
       "      <td>2</td>\n",
       "      <td>62f67ae0fc70763173e81fc2</td>\n",
       "      <td>Swh7B1VF</td>\n",
       "      <td>60ca3935fb64d56e11014643</td>\n",
       "      <td>female</td>\n",
       "      <td>23</td>\n",
       "      <td>white</td>\n",
       "      <td>undergrad</td>\n",
       "      <td>[Avg. hours on social media, Depression severity]</td>\n",
       "      <td>5</td>\n",
       "      <td>...</td>\n",
       "      <td>-0.946159</td>\n",
       "      <td>-0.580655</td>\n",
       "      <td>Maybe people who are depressed spend a lot of ...</td>\n",
       "      <td>I could reason that people with depression may...</td>\n",
       "      <td>I continued with the same graph because I coul...</td>\n",
       "      <td>cant_say</td>\n",
       "      <td>Tetris was a long time. I think 2 minutes woul...</td>\n",
       "      <td>Avg. hours on social media_Depression severity</td>\n",
       "      <td>1.057640</td>\n",
       "      <td>1.034564</td>\n",
       "    </tr>\n",
       "    <tr>\n",
       "      <th>3</th>\n",
       "      <td>3</td>\n",
       "      <td>62f67f44fc70763173e81fdc</td>\n",
       "      <td>OwNbjsPH</td>\n",
       "      <td>5af9fab60a7ecb00011820b8</td>\n",
       "      <td>female</td>\n",
       "      <td>29</td>\n",
       "      <td>eastasian</td>\n",
       "      <td>undergrad</td>\n",
       "      <td>[Immigrant population, Crime rate]</td>\n",
       "      <td>5</td>\n",
       "      <td>...</td>\n",
       "      <td>0.211423</td>\n",
       "      <td>1.000000</td>\n",
       "      <td>I don't believe that there is any correlation ...</td>\n",
       "      <td>It made me think that it might be possible tha...</td>\n",
       "      <td>Similar thinking to before the game.</td>\n",
       "      <td>liekly</td>\n",
       "      <td>no</td>\n",
       "      <td>Immigrant population_Crime rate</td>\n",
       "      <td>0.518344</td>\n",
       "      <td>0.642514</td>\n",
       "    </tr>\n",
       "    <tr>\n",
       "      <th>4</th>\n",
       "      <td>4</td>\n",
       "      <td>62f67f44fc70763173e81fdc</td>\n",
       "      <td>OwNbjsPH</td>\n",
       "      <td>5af9fab60a7ecb00011820b8</td>\n",
       "      <td>female</td>\n",
       "      <td>29</td>\n",
       "      <td>eastasian</td>\n",
       "      <td>undergrad</td>\n",
       "      <td>[Years of education, Income]</td>\n",
       "      <td>5</td>\n",
       "      <td>...</td>\n",
       "      <td>0.002863</td>\n",
       "      <td>0.705464</td>\n",
       "      <td>I've heard many studies saying that getting hi...</td>\n",
       "      <td>It might still be true that higher income can ...</td>\n",
       "      <td>There is still a positive relationship between...</td>\n",
       "      <td>liekly</td>\n",
       "      <td>no</td>\n",
       "      <td>Years of education_Income</td>\n",
       "      <td>0.134690</td>\n",
       "      <td>0.065101</td>\n",
       "    </tr>\n",
       "  </tbody>\n",
       "</table>\n",
       "<p>5 rows × 30 columns</p>\n",
       "</div>\n",
       "      <button class=\"colab-df-convert\" onclick=\"convertToInteractive('df-948583b2-84f0-47eb-91d3-d5489b772d6e')\"\n",
       "              title=\"Convert this dataframe to an interactive table.\"\n",
       "              style=\"display:none;\">\n",
       "        \n",
       "  <svg xmlns=\"http://www.w3.org/2000/svg\" height=\"24px\"viewBox=\"0 0 24 24\"\n",
       "       width=\"24px\">\n",
       "    <path d=\"M0 0h24v24H0V0z\" fill=\"none\"/>\n",
       "    <path d=\"M18.56 5.44l.94 2.06.94-2.06 2.06-.94-2.06-.94-.94-2.06-.94 2.06-2.06.94zm-11 1L8.5 8.5l.94-2.06 2.06-.94-2.06-.94L8.5 2.5l-.94 2.06-2.06.94zm10 10l.94 2.06.94-2.06 2.06-.94-2.06-.94-.94-2.06-.94 2.06-2.06.94z\"/><path d=\"M17.41 7.96l-1.37-1.37c-.4-.4-.92-.59-1.43-.59-.52 0-1.04.2-1.43.59L10.3 9.45l-7.72 7.72c-.78.78-.78 2.05 0 2.83L4 21.41c.39.39.9.59 1.41.59.51 0 1.02-.2 1.41-.59l7.78-7.78 2.81-2.81c.8-.78.8-2.07 0-2.86zM5.41 20L4 18.59l7.72-7.72 1.47 1.35L5.41 20z\"/>\n",
       "  </svg>\n",
       "      </button>\n",
       "      \n",
       "  <style>\n",
       "    .colab-df-container {\n",
       "      display:flex;\n",
       "      flex-wrap:wrap;\n",
       "      gap: 12px;\n",
       "    }\n",
       "\n",
       "    .colab-df-convert {\n",
       "      background-color: #E8F0FE;\n",
       "      border: none;\n",
       "      border-radius: 50%;\n",
       "      cursor: pointer;\n",
       "      display: none;\n",
       "      fill: #1967D2;\n",
       "      height: 32px;\n",
       "      padding: 0 0 0 0;\n",
       "      width: 32px;\n",
       "    }\n",
       "\n",
       "    .colab-df-convert:hover {\n",
       "      background-color: #E2EBFA;\n",
       "      box-shadow: 0px 1px 2px rgba(60, 64, 67, 0.3), 0px 1px 3px 1px rgba(60, 64, 67, 0.15);\n",
       "      fill: #174EA6;\n",
       "    }\n",
       "\n",
       "    [theme=dark] .colab-df-convert {\n",
       "      background-color: #3B4455;\n",
       "      fill: #D2E3FC;\n",
       "    }\n",
       "\n",
       "    [theme=dark] .colab-df-convert:hover {\n",
       "      background-color: #434B5C;\n",
       "      box-shadow: 0px 1px 3px 1px rgba(0, 0, 0, 0.15);\n",
       "      filter: drop-shadow(0px 1px 2px rgba(0, 0, 0, 0.3));\n",
       "      fill: #FFFFFF;\n",
       "    }\n",
       "  </style>\n",
       "\n",
       "      <script>\n",
       "        const buttonEl =\n",
       "          document.querySelector('#df-948583b2-84f0-47eb-91d3-d5489b772d6e button.colab-df-convert');\n",
       "        buttonEl.style.display =\n",
       "          google.colab.kernel.accessAllowed ? 'block' : 'none';\n",
       "\n",
       "        async function convertToInteractive(key) {\n",
       "          const element = document.querySelector('#df-948583b2-84f0-47eb-91d3-d5489b772d6e');\n",
       "          const dataTable =\n",
       "            await google.colab.kernel.invokeFunction('convertToInteractive',\n",
       "                                                     [key], {});\n",
       "          if (!dataTable) return;\n",
       "\n",
       "          const docLinkHtml = 'Like what you see? Visit the ' +\n",
       "            '<a target=\"_blank\" href=https://colab.research.google.com/notebooks/data_table.ipynb>data table notebook</a>'\n",
       "            + ' to learn more about interactive tables.';\n",
       "          element.innerHTML = '';\n",
       "          dataTable['output_type'] = 'display_data';\n",
       "          await google.colab.output.renderOutput(dataTable, element);\n",
       "          const docLink = document.createElement('div');\n",
       "          docLink.innerHTML = docLinkHtml;\n",
       "          element.appendChild(docLink);\n",
       "        }\n",
       "      </script>\n",
       "    </div>\n",
       "  </div>\n",
       "  "
      ],
      "text/plain": [
       "   Unnamed: 0                        ID usertoken                prolificID  \\\n",
       "0           0  62f67ae0fc70763173e81fc2  Swh7B1VF  60ca3935fb64d56e11014643   \n",
       "1           1  62f67ae0fc70763173e81fc2  Swh7B1VF  60ca3935fb64d56e11014643   \n",
       "2           2  62f67ae0fc70763173e81fc2  Swh7B1VF  60ca3935fb64d56e11014643   \n",
       "3           3  62f67f44fc70763173e81fdc  OwNbjsPH  5af9fab60a7ecb00011820b8   \n",
       "4           4  62f67f44fc70763173e81fdc  OwNbjsPH  5af9fab60a7ecb00011820b8   \n",
       "\n",
       "   gender  age       race  education  \\\n",
       "0  female   23      white  undergrad   \n",
       "1  female   23      white  undergrad   \n",
       "2  female   23      white  undergrad   \n",
       "3  female   29  eastasian  undergrad   \n",
       "4  female   29  eastasian  undergrad   \n",
       "\n",
       "                                           variables  timerVal  ...  \\\n",
       "0                 [Immigrant population, Crime rate]         5  ...   \n",
       "1                       [Years of education, Income]         5  ...   \n",
       "2  [Avg. hours on social media, Depression severity]         5  ...   \n",
       "3                 [Immigrant population, Crime rate]         5  ...   \n",
       "4                       [Years of education, Income]         5  ...   \n",
       "\n",
       "   post2_uncertainty_L  post2_uncertainty_R  \\\n",
       "0            -0.988185            -0.607742   \n",
       "1            -0.277683             0.264089   \n",
       "2            -0.946159            -0.580655   \n",
       "3             0.211423             1.000000   \n",
       "4             0.002863             0.705464   \n",
       "\n",
       "                                         retro_prior  \\\n",
       "0  I thought that many immigrant families may liv...   \n",
       "1  Typically, people with more education are able...   \n",
       "2  Maybe people who are depressed spend a lot of ...   \n",
       "3  I don't believe that there is any correlation ...   \n",
       "4  I've heard many studies saying that getting hi...   \n",
       "\n",
       "                                         retro_post1  \\\n",
       "0  The data showed a negative correlation trend, ...   \n",
       "1  The data threw off my belief since it was nega...   \n",
       "2  I could reason that people with depression may...   \n",
       "3  It made me think that it might be possible tha...   \n",
       "4  It might still be true that higher income can ...   \n",
       "\n",
       "                                         retro_post2       likert  \\\n",
       "0  Again, I used my judgement based on the data g...     unlikely   \n",
       "1  After Tetris, I figured there could be some co...  very_likely   \n",
       "2  I continued with the same graph because I coul...     cant_say   \n",
       "3              Similar thinking to before the game.        liekly   \n",
       "4  There is still a positive relationship between...       liekly   \n",
       "\n",
       "                                              survey  \\\n",
       "0  Tetris was a long time. I think 2 minutes woul...   \n",
       "1  Tetris was a long time. I think 2 minutes woul...   \n",
       "2  Tetris was a long time. I think 2 minutes woul...   \n",
       "3                                                 no   \n",
       "4                                                 no   \n",
       "\n",
       "                                             vars  post-prior before tetris  \\\n",
       "0                 Immigrant population_Crime rate                  1.244300   \n",
       "1                       Years of education_Income                  0.872396   \n",
       "2  Avg. hours on social media_Depression severity                  1.057640   \n",
       "3                 Immigrant population_Crime rate                  0.518344   \n",
       "4                       Years of education_Income                  0.134690   \n",
       "\n",
       "   post-prior after tetris  \n",
       "0                 1.232843  \n",
       "1                 0.873079  \n",
       "2                 1.034564  \n",
       "3                 0.642514  \n",
       "4                 0.065101  \n",
       "\n",
       "[5 rows x 30 columns]"
      ]
     },
     "execution_count": 98,
     "metadata": {},
     "output_type": "execute_result"
    }
   ],
   "source": [
    "df.head()"
   ]
  },
  {
   "cell_type": "code",
   "execution_count": null,
   "metadata": {
    "id": "lZA3wjQeJlHo"
   },
   "outputs": [],
   "source": [
    "melt = pd.melt(df,id_vars=[\"prolificID\",\"vars\"],value_vars=[\"post-prior before tetris\",\"post-prior after tetris\"]).sort_values(\"prolificID\")"
   ]
  },
  {
   "cell_type": "code",
   "execution_count": null,
   "metadata": {
    "colab": {
     "base_uri": "https://localhost:8080/",
     "height": 424
    },
    "executionInfo": {
     "elapsed": 12,
     "status": "ok",
     "timestamp": 1660612531110,
     "user": {
      "displayName": "Alireza Karduni",
      "userId": "16608708813703075774"
     },
     "user_tz": 300
    },
    "id": "GKJk1qfeNqPt",
    "outputId": "69b7a57c-7aeb-40cb-85b1-6b907bf15d3e"
   },
   "outputs": [
    {
     "data": {
      "text/html": [
       "\n",
       "  <div id=\"df-c093bf79-cdef-4be9-8ed0-952428a5d8d6\">\n",
       "    <div class=\"colab-df-container\">\n",
       "      <div>\n",
       "<style scoped>\n",
       "    .dataframe tbody tr th:only-of-type {\n",
       "        vertical-align: middle;\n",
       "    }\n",
       "\n",
       "    .dataframe tbody tr th {\n",
       "        vertical-align: top;\n",
       "    }\n",
       "\n",
       "    .dataframe thead th {\n",
       "        text-align: right;\n",
       "    }\n",
       "</style>\n",
       "<table border=\"1\" class=\"dataframe\">\n",
       "  <thead>\n",
       "    <tr style=\"text-align: right;\">\n",
       "      <th></th>\n",
       "      <th>prolificID</th>\n",
       "      <th>vars</th>\n",
       "      <th>variable</th>\n",
       "      <th>value</th>\n",
       "    </tr>\n",
       "  </thead>\n",
       "  <tbody>\n",
       "    <tr>\n",
       "      <th>242</th>\n",
       "      <td>56cc78e3ccc0e20006b82a7d</td>\n",
       "      <td>Immigrant population_Crime rate</td>\n",
       "      <td>post-prior before tetris</td>\n",
       "      <td>1.007903</td>\n",
       "    </tr>\n",
       "    <tr>\n",
       "      <th>240</th>\n",
       "      <td>56cc78e3ccc0e20006b82a7d</td>\n",
       "      <td>Avg. hours on social media_Depression severity</td>\n",
       "      <td>post-prior before tetris</td>\n",
       "      <td>0.759732</td>\n",
       "    </tr>\n",
       "    <tr>\n",
       "      <th>241</th>\n",
       "      <td>56cc78e3ccc0e20006b82a7d</td>\n",
       "      <td>Years of education_Income</td>\n",
       "      <td>post-prior before tetris</td>\n",
       "      <td>0.482122</td>\n",
       "    </tr>\n",
       "    <tr>\n",
       "      <th>516</th>\n",
       "      <td>56cc78e3ccc0e20006b82a7d</td>\n",
       "      <td>Avg. hours on social media_Depression severity</td>\n",
       "      <td>post-prior after tetris</td>\n",
       "      <td>0.758212</td>\n",
       "    </tr>\n",
       "    <tr>\n",
       "      <th>517</th>\n",
       "      <td>56cc78e3ccc0e20006b82a7d</td>\n",
       "      <td>Years of education_Income</td>\n",
       "      <td>post-prior after tetris</td>\n",
       "      <td>0.559994</td>\n",
       "    </tr>\n",
       "    <tr>\n",
       "      <th>...</th>\n",
       "      <td>...</td>\n",
       "      <td>...</td>\n",
       "      <td>...</td>\n",
       "      <td>...</td>\n",
       "    </tr>\n",
       "    <tr>\n",
       "      <th>467</th>\n",
       "      <td>62e075f79f3580d1da08eacc</td>\n",
       "      <td>Immigrant population_Crime rate</td>\n",
       "      <td>post-prior after tetris</td>\n",
       "      <td>1.156210</td>\n",
       "    </tr>\n",
       "    <tr>\n",
       "      <th>189</th>\n",
       "      <td>62e075f79f3580d1da08eacc</td>\n",
       "      <td>Avg. hours on social media_Depression severity</td>\n",
       "      <td>post-prior before tetris</td>\n",
       "      <td>0.979721</td>\n",
       "    </tr>\n",
       "    <tr>\n",
       "      <th>465</th>\n",
       "      <td>62e075f79f3580d1da08eacc</td>\n",
       "      <td>Avg. hours on social media_Depression severity</td>\n",
       "      <td>post-prior after tetris</td>\n",
       "      <td>1.005351</td>\n",
       "    </tr>\n",
       "    <tr>\n",
       "      <th>191</th>\n",
       "      <td>62e075f79f3580d1da08eacc</td>\n",
       "      <td>Immigrant population_Crime rate</td>\n",
       "      <td>post-prior before tetris</td>\n",
       "      <td>1.203157</td>\n",
       "    </tr>\n",
       "    <tr>\n",
       "      <th>466</th>\n",
       "      <td>62e075f79f3580d1da08eacc</td>\n",
       "      <td>Years of education_Income</td>\n",
       "      <td>post-prior after tetris</td>\n",
       "      <td>0.372752</td>\n",
       "    </tr>\n",
       "  </tbody>\n",
       "</table>\n",
       "<p>552 rows × 4 columns</p>\n",
       "</div>\n",
       "      <button class=\"colab-df-convert\" onclick=\"convertToInteractive('df-c093bf79-cdef-4be9-8ed0-952428a5d8d6')\"\n",
       "              title=\"Convert this dataframe to an interactive table.\"\n",
       "              style=\"display:none;\">\n",
       "        \n",
       "  <svg xmlns=\"http://www.w3.org/2000/svg\" height=\"24px\"viewBox=\"0 0 24 24\"\n",
       "       width=\"24px\">\n",
       "    <path d=\"M0 0h24v24H0V0z\" fill=\"none\"/>\n",
       "    <path d=\"M18.56 5.44l.94 2.06.94-2.06 2.06-.94-2.06-.94-.94-2.06-.94 2.06-2.06.94zm-11 1L8.5 8.5l.94-2.06 2.06-.94-2.06-.94L8.5 2.5l-.94 2.06-2.06.94zm10 10l.94 2.06.94-2.06 2.06-.94-2.06-.94-.94-2.06-.94 2.06-2.06.94z\"/><path d=\"M17.41 7.96l-1.37-1.37c-.4-.4-.92-.59-1.43-.59-.52 0-1.04.2-1.43.59L10.3 9.45l-7.72 7.72c-.78.78-.78 2.05 0 2.83L4 21.41c.39.39.9.59 1.41.59.51 0 1.02-.2 1.41-.59l7.78-7.78 2.81-2.81c.8-.78.8-2.07 0-2.86zM5.41 20L4 18.59l7.72-7.72 1.47 1.35L5.41 20z\"/>\n",
       "  </svg>\n",
       "      </button>\n",
       "      \n",
       "  <style>\n",
       "    .colab-df-container {\n",
       "      display:flex;\n",
       "      flex-wrap:wrap;\n",
       "      gap: 12px;\n",
       "    }\n",
       "\n",
       "    .colab-df-convert {\n",
       "      background-color: #E8F0FE;\n",
       "      border: none;\n",
       "      border-radius: 50%;\n",
       "      cursor: pointer;\n",
       "      display: none;\n",
       "      fill: #1967D2;\n",
       "      height: 32px;\n",
       "      padding: 0 0 0 0;\n",
       "      width: 32px;\n",
       "    }\n",
       "\n",
       "    .colab-df-convert:hover {\n",
       "      background-color: #E2EBFA;\n",
       "      box-shadow: 0px 1px 2px rgba(60, 64, 67, 0.3), 0px 1px 3px 1px rgba(60, 64, 67, 0.15);\n",
       "      fill: #174EA6;\n",
       "    }\n",
       "\n",
       "    [theme=dark] .colab-df-convert {\n",
       "      background-color: #3B4455;\n",
       "      fill: #D2E3FC;\n",
       "    }\n",
       "\n",
       "    [theme=dark] .colab-df-convert:hover {\n",
       "      background-color: #434B5C;\n",
       "      box-shadow: 0px 1px 3px 1px rgba(0, 0, 0, 0.15);\n",
       "      filter: drop-shadow(0px 1px 2px rgba(0, 0, 0, 0.3));\n",
       "      fill: #FFFFFF;\n",
       "    }\n",
       "  </style>\n",
       "\n",
       "      <script>\n",
       "        const buttonEl =\n",
       "          document.querySelector('#df-c093bf79-cdef-4be9-8ed0-952428a5d8d6 button.colab-df-convert');\n",
       "        buttonEl.style.display =\n",
       "          google.colab.kernel.accessAllowed ? 'block' : 'none';\n",
       "\n",
       "        async function convertToInteractive(key) {\n",
       "          const element = document.querySelector('#df-c093bf79-cdef-4be9-8ed0-952428a5d8d6');\n",
       "          const dataTable =\n",
       "            await google.colab.kernel.invokeFunction('convertToInteractive',\n",
       "                                                     [key], {});\n",
       "          if (!dataTable) return;\n",
       "\n",
       "          const docLinkHtml = 'Like what you see? Visit the ' +\n",
       "            '<a target=\"_blank\" href=https://colab.research.google.com/notebooks/data_table.ipynb>data table notebook</a>'\n",
       "            + ' to learn more about interactive tables.';\n",
       "          element.innerHTML = '';\n",
       "          dataTable['output_type'] = 'display_data';\n",
       "          await google.colab.output.renderOutput(dataTable, element);\n",
       "          const docLink = document.createElement('div');\n",
       "          docLink.innerHTML = docLinkHtml;\n",
       "          element.appendChild(docLink);\n",
       "        }\n",
       "      </script>\n",
       "    </div>\n",
       "  </div>\n",
       "  "
      ],
      "text/plain": [
       "                   prolificID                                            vars  \\\n",
       "242  56cc78e3ccc0e20006b82a7d                 Immigrant population_Crime rate   \n",
       "240  56cc78e3ccc0e20006b82a7d  Avg. hours on social media_Depression severity   \n",
       "241  56cc78e3ccc0e20006b82a7d                       Years of education_Income   \n",
       "516  56cc78e3ccc0e20006b82a7d  Avg. hours on social media_Depression severity   \n",
       "517  56cc78e3ccc0e20006b82a7d                       Years of education_Income   \n",
       "..                        ...                                             ...   \n",
       "467  62e075f79f3580d1da08eacc                 Immigrant population_Crime rate   \n",
       "189  62e075f79f3580d1da08eacc  Avg. hours on social media_Depression severity   \n",
       "465  62e075f79f3580d1da08eacc  Avg. hours on social media_Depression severity   \n",
       "191  62e075f79f3580d1da08eacc                 Immigrant population_Crime rate   \n",
       "466  62e075f79f3580d1da08eacc                       Years of education_Income   \n",
       "\n",
       "                     variable     value  \n",
       "242  post-prior before tetris  1.007903  \n",
       "240  post-prior before tetris  0.759732  \n",
       "241  post-prior before tetris  0.482122  \n",
       "516   post-prior after tetris  0.758212  \n",
       "517   post-prior after tetris  0.559994  \n",
       "..                        ...       ...  \n",
       "467   post-prior after tetris  1.156210  \n",
       "189  post-prior before tetris  0.979721  \n",
       "465   post-prior after tetris  1.005351  \n",
       "191  post-prior before tetris  1.203157  \n",
       "466   post-prior after tetris  0.372752  \n",
       "\n",
       "[552 rows x 4 columns]"
      ]
     },
     "execution_count": 100,
     "metadata": {},
     "output_type": "execute_result"
    }
   ],
   "source": [
    "melt"
   ]
  },
  {
   "cell_type": "code",
   "execution_count": null,
   "metadata": {
    "colab": {
     "base_uri": "https://localhost:8080/",
     "height": 302
    },
    "executionInfo": {
     "elapsed": 912,
     "status": "ok",
     "timestamp": 1660612654869,
     "user": {
      "displayName": "Alireza Karduni",
      "userId": "16608708813703075774"
     },
     "user_tz": 300
    },
    "id": "VSICvnLeGb8p",
    "outputId": "2d70db83-c948-4361-b143-9f76fa641382"
   },
   "outputs": [
    {
     "data": {
      "text/plain": [
       "<matplotlib.axes._subplots.AxesSubplot at 0x7f3e64408e50>"
      ]
     },
     "execution_count": 103,
     "metadata": {},
     "output_type": "execute_result"
    },
    {
     "data": {
      "image/png": "[encoded data removed]",
      "text/plain": [
       "<Figure size 432x288 with 1 Axes>"
      ]
     },
     "metadata": {},
     "output_type": "display_data"
    }
   ],
   "source": [
    "sns.pointplot(y=\"variable\", x=\"value\",data=melt,join=False,dodge=0.1)"
   ]
  },
  {
   "cell_type": "code",
   "execution_count": null,
   "metadata": {
    "id": "8grhFqYUJPL5"
   },
   "outputs": [],
   "source": [
    "sns.set()"
   ]
  },
  {
   "cell_type": "code",
   "execution_count": null,
   "metadata": {
    "id": "HYLtQAZrH6vS"
   },
   "outputs": [],
   "source": [
    "df[\"belief_change_difference\"] = df[\"dif_0\"] - df[\"dif_1\"] "
   ]
  },
  {
   "cell_type": "code",
   "execution_count": null,
   "metadata": {
    "colab": {
     "base_uri": "https://localhost:8080/",
     "height": 302
    },
    "executionInfo": {
     "elapsed": 356,
     "status": "ok",
     "timestamp": 1660611266981,
     "user": {
      "displayName": "Alireza Karduni",
      "userId": "16608708813703075774"
     },
     "user_tz": 300
    },
    "id": "0k24C5NwG4uV",
    "outputId": "dbc4779d-20c3-4648-8e62-cd65e365ca67"
   },
   "outputs": [
    {
     "data": {
      "text/plain": [
       "<matplotlib.axes._subplots.AxesSubplot at 0x7f3e647c4b50>"
      ]
     },
     "execution_count": 52,
     "metadata": {},
     "output_type": "execute_result"
    },
    {
     "data": {
      "image/png": "[encoded data removed]",
      "text/plain": [
       "<Figure size 432x288 with 1 Axes>"
      ]
     },
     "metadata": {},
     "output_type": "display_data"
    }
   ],
   "source": [
    "sns.pointplot(y=\"vars\",x=\"belief_change_difference\",data=df,join=False)"
   ]
  },
  {
   "cell_type": "code",
   "execution_count": null,
   "metadata": {
    "id": "Mdr40ScLHVBP"
   },
   "outputs": [],
   "source": []
  }
 ],
 "metadata": {
  "colab": {
   "authorship_tag": "ABX9TyMQVoT6fQvJnjBPR7YFjV67",
   "mount_file_id": "1bI-Mu6l1hMsJtkzCpitV6VEVBULudtGz",
   "name": "Untitled0.ipynb",
   "provenance": []
  },
  "kernelspec": {
   "display_name": "Python 3",
   "language": "python",
   "name": "python3"
  },
  "language_info": {
   "codemirror_mode": {
    "name": "ipython",
    "version": 3
   },
   "file_extension": ".py",
   "mimetype": "text/x-python",
   "name": "python",
   "nbconvert_exporter": "python",
   "pygments_lexer": "ipython3",
   "version": "3.8.3"
  }
 },
 "nbformat": 4,
 "nbformat_minor": 4
}
